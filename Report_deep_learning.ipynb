{
  "nbformat": 4,
  "nbformat_minor": 0,
  "metadata": {
    "colab": {
      "provenance": []
    },
    "kernelspec": {
      "name": "python3",
      "display_name": "Python 3"
    },
    "language_info": {
      "name": "python"
    }
  },
  "cells": [
    {
      "cell_type": "markdown",
      "source": [
        "# **Report of Charity CSV**\n",
        "\n",
        "**Overview:**\n",
        "The goal of this project is that by using neural networks to create a model to predict with an accuracy of 75% or more which companies have the ability to thrive and become succesfull by using the charity money.\n",
        "\n",
        "**Results:**\n",
        "\n",
        "*Data Preprocessing*\n",
        "\n",
        "*   What variable(s) are the target(s) for your model? The target of my model is the \"is_succesful\" column\n",
        "*   What variable(s) are the features for your model? The rest of the columns from my dataframe were used as \"Application type\", \"affilation\", \"classifaction\", etc. Basically all of the columns not named \"EIN\", \"Names\", and \"Is_succesful\"\n",
        "*   What variable(s) should be removed from the input data because they are neither targets nor features? The variables that were removed from the input data were the columns \"EIN\" and \"Names\" as they were not features or target predictions we wanted to accomplish. \n",
        "\n",
        "*Compiling, Training, and Evaluating the Model*\n",
        "\n",
        "*   How many neurons, layers, and activation functions did you select for your neural network model, and why?\n",
        "*   Were you able to achieve the target model performance?\n",
        "*   What steps did you take in your attempts to increase model performance?\n",
        "\n",
        "**Summary:**\n",
        "After analyzing the findings of my analysis we can see that I wasnt able to construct a model with the desired level of accuracy. The level of accuracy that I obtained was 72.4665% approximately. In order to achieve a better model than I would recommend to either reestablish the affilation or classification model as the raw data might not be accurate. By doing this then we would improve the model by having better data."
      ],
      "metadata": {
        "id": "XAOBN9aOSlgV"
      }
    }
  ]
}